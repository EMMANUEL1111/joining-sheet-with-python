{
 "cells": [
  {
   "cell_type": "markdown",
   "metadata": {},
   "source": [
    "# import pandas libraries"
   ]
  },
  {
   "cell_type": "code",
   "execution_count": 39,
   "metadata": {},
   "outputs": [],
   "source": [
    "import pandas as pd\n"
   ]
  },
  {
   "cell_type": "markdown",
   "metadata": {},
   "source": [
    "## import the data set into python"
   ]
  },
  {
   "cell_type": "code",
   "execution_count": 40,
   "metadata": {},
   "outputs": [],
   "source": [
    "data=pd.read_excel('sheet.xlsx')"
   ]
  },
  {
   "cell_type": "code",
   "execution_count": 33,
   "metadata": {},
   "outputs": [],
   "source": [
    "data2=pd.read_excel('sheets.xlsx',sheet_name='Sheet2')"
   ]
  },
  {
   "cell_type": "code",
   "execution_count": 41,
   "metadata": {},
   "outputs": [
    {
     "data": {
      "text/html": [
       "<div>\n",
       "<style scoped>\n",
       "    .dataframe tbody tr th:only-of-type {\n",
       "        vertical-align: middle;\n",
       "    }\n",
       "\n",
       "    .dataframe tbody tr th {\n",
       "        vertical-align: top;\n",
       "    }\n",
       "\n",
       "    .dataframe thead th {\n",
       "        text-align: right;\n",
       "    }\n",
       "</style>\n",
       "<table border=\"1\" class=\"dataframe\">\n",
       "  <thead>\n",
       "    <tr style=\"text-align: right;\">\n",
       "      <th></th>\n",
       "      <th>Tran. Date</th>\n",
       "      <th>Ref/Chq. No</th>\n",
       "      <th>Debit</th>\n",
       "      <th>Credit</th>\n",
       "      <th>Balance</th>\n",
       "    </tr>\n",
       "  </thead>\n",
       "  <tbody>\n",
       "    <tr>\n",
       "      <th>0</th>\n",
       "      <td>2022-02-10</td>\n",
       "      <td>1001</td>\n",
       "      <td>3.75</td>\n",
       "      <td>NaN</td>\n",
       "      <td>1967229.20</td>\n",
       "    </tr>\n",
       "    <tr>\n",
       "      <th>1</th>\n",
       "      <td>2022-02-10</td>\n",
       "      <td>1002</td>\n",
       "      <td>NaN</td>\n",
       "      <td>19000000.0</td>\n",
       "      <td>20967229.20</td>\n",
       "    </tr>\n",
       "    <tr>\n",
       "      <th>2</th>\n",
       "      <td>2022-02-10</td>\n",
       "      <td>1003</td>\n",
       "      <td>20000000.00</td>\n",
       "      <td>NaN</td>\n",
       "      <td>967229.20</td>\n",
       "    </tr>\n",
       "    <tr>\n",
       "      <th>3</th>\n",
       "      <td>2022-02-10</td>\n",
       "      <td>1004</td>\n",
       "      <td>50.00</td>\n",
       "      <td>NaN</td>\n",
       "      <td>967179.20</td>\n",
       "    </tr>\n",
       "    <tr>\n",
       "      <th>4</th>\n",
       "      <td>2022-02-10</td>\n",
       "      <td>1005</td>\n",
       "      <td>3.75</td>\n",
       "      <td>NaN</td>\n",
       "      <td>967175.45</td>\n",
       "    </tr>\n",
       "    <tr>\n",
       "      <th>...</th>\n",
       "      <td>...</td>\n",
       "      <td>...</td>\n",
       "      <td>...</td>\n",
       "      <td>...</td>\n",
       "      <td>...</td>\n",
       "    </tr>\n",
       "    <tr>\n",
       "      <th>3148</th>\n",
       "      <td>2022-11-30</td>\n",
       "      <td>4149</td>\n",
       "      <td>50.00</td>\n",
       "      <td>NaN</td>\n",
       "      <td>22590397.62</td>\n",
       "    </tr>\n",
       "    <tr>\n",
       "      <th>3149</th>\n",
       "      <td>2022-11-30</td>\n",
       "      <td>4150</td>\n",
       "      <td>3.75</td>\n",
       "      <td>NaN</td>\n",
       "      <td>22590393.87</td>\n",
       "    </tr>\n",
       "    <tr>\n",
       "      <th>3150</th>\n",
       "      <td>2022-11-30</td>\n",
       "      <td>4151</td>\n",
       "      <td>10000000.00</td>\n",
       "      <td>NaN</td>\n",
       "      <td>12590393.87</td>\n",
       "    </tr>\n",
       "    <tr>\n",
       "      <th>3151</th>\n",
       "      <td>2022-11-30</td>\n",
       "      <td>4152</td>\n",
       "      <td>50.00</td>\n",
       "      <td>NaN</td>\n",
       "      <td>12590343.87</td>\n",
       "    </tr>\n",
       "    <tr>\n",
       "      <th>3152</th>\n",
       "      <td>2022-11-30</td>\n",
       "      <td>4153</td>\n",
       "      <td>3.75</td>\n",
       "      <td>NaN</td>\n",
       "      <td>12590340.12</td>\n",
       "    </tr>\n",
       "  </tbody>\n",
       "</table>\n",
       "<p>3153 rows × 5 columns</p>\n",
       "</div>"
      ],
      "text/plain": [
       "     Tran. Date  Ref/Chq. No        Debit      Credit      Balance\n",
       "0    2022-02-10         1001         3.75         NaN   1967229.20\n",
       "1    2022-02-10         1002          NaN  19000000.0  20967229.20\n",
       "2    2022-02-10         1003  20000000.00         NaN    967229.20\n",
       "3    2022-02-10         1004        50.00         NaN    967179.20\n",
       "4    2022-02-10         1005         3.75         NaN    967175.45\n",
       "...         ...          ...          ...         ...          ...\n",
       "3148 2022-11-30         4149        50.00         NaN  22590397.62\n",
       "3149 2022-11-30         4150         3.75         NaN  22590393.87\n",
       "3150 2022-11-30         4151  10000000.00         NaN  12590393.87\n",
       "3151 2022-11-30         4152        50.00         NaN  12590343.87\n",
       "3152 2022-11-30         4153         3.75         NaN  12590340.12\n",
       "\n",
       "[3153 rows x 5 columns]"
      ]
     },
     "execution_count": 41,
     "metadata": {},
     "output_type": "execute_result"
    }
   ],
   "source": [
    "data2"
   ]
  },
  {
   "cell_type": "markdown",
   "metadata": {},
   "source": [
    "##  sheet reporting using pandas"
   ]
  },
  {
   "cell_type": "code",
   "execution_count": 7,
   "metadata": {},
   "outputs": [],
   "source": [
    "file='sheets.xlsx'"
   ]
  },
  {
   "cell_type": "code",
   "execution_count": 45,
   "metadata": {},
   "outputs": [
    {
     "data": {
      "text/plain": [
       "['Sheet1',\n",
       " 'Sheet2',\n",
       " 'Sheet3',\n",
       " 'Sheet4',\n",
       " 'Sheet5',\n",
       " 'Sheet6',\n",
       " 'Sheet7',\n",
       " 'Sheet8',\n",
       " 'Sheet9',\n",
       " 'Sheet10',\n",
       " 'Sheet11']"
      ]
     },
     "execution_count": 45,
     "metadata": {},
     "output_type": "execute_result"
    }
   ],
   "source": [
    "pd.ExcelFile(file).sheet_names"
   ]
  },
  {
   "cell_type": "markdown",
   "metadata": {},
   "source": [
    "### calling the Excel writer function with pandas\n",
    "### create a new dataframe with a variable name\n",
    "###  run a for loop on the  various sheet available in the excel file \n",
    "####  read the excel file with a new variable new and use the append function to combine the together\n",
    "\n",
    "####  send the new data to a data frame and make the index false to prevent a new label number \n",
    "\n",
    "#### Save the excel writer "
   ]
  },
  {
   "cell_type": "code",
   "execution_count": 42,
   "metadata": {},
   "outputs": [],
   "source": [
    "writer_data=pd.ExcelWriter('joindata.xlsx', engine='xlsxwriter')\n",
    "join=pd.DataFrame()\n",
    "for sheet in pd.ExcelFile(file).sheet_names:\n",
    "    df=pd.read_excel('sheets.xlsx',sheet_name=sheet)\n",
    "    join=join.append(df)\n",
    "    \n",
    "join.to_excel(writer_data,sheet_name='alldata',index=False,index_label=False)\n",
    "writer_data.save()"
   ]
  },
  {
   "cell_type": "code",
   "execution_count": 44,
   "metadata": {},
   "outputs": [
    {
     "data": {
      "text/html": [
       "<div>\n",
       "<style scoped>\n",
       "    .dataframe tbody tr th:only-of-type {\n",
       "        vertical-align: middle;\n",
       "    }\n",
       "\n",
       "    .dataframe tbody tr th {\n",
       "        vertical-align: top;\n",
       "    }\n",
       "\n",
       "    .dataframe thead th {\n",
       "        text-align: right;\n",
       "    }\n",
       "</style>\n",
       "<table border=\"1\" class=\"dataframe\">\n",
       "  <thead>\n",
       "    <tr style=\"text-align: right;\">\n",
       "      <th></th>\n",
       "      <th>Tran. Date</th>\n",
       "      <th>Ref/Chq. No</th>\n",
       "      <th>Debit</th>\n",
       "      <th>Credit</th>\n",
       "      <th>Balance</th>\n",
       "    </tr>\n",
       "  </thead>\n",
       "  <tbody>\n",
       "    <tr>\n",
       "      <th>0</th>\n",
       "      <td>2022-01-04</td>\n",
       "      <td>5001</td>\n",
       "      <td>NaN</td>\n",
       "      <td>30000000.0</td>\n",
       "      <td>45439777.46</td>\n",
       "    </tr>\n",
       "    <tr>\n",
       "      <th>1</th>\n",
       "      <td>2022-01-04</td>\n",
       "      <td>5002</td>\n",
       "      <td>30000000.00</td>\n",
       "      <td>NaN</td>\n",
       "      <td>15439777.46</td>\n",
       "    </tr>\n",
       "    <tr>\n",
       "      <th>2</th>\n",
       "      <td>2022-01-04</td>\n",
       "      <td>5003</td>\n",
       "      <td>50.00</td>\n",
       "      <td>NaN</td>\n",
       "      <td>15439727.46</td>\n",
       "    </tr>\n",
       "    <tr>\n",
       "      <th>3</th>\n",
       "      <td>2022-01-04</td>\n",
       "      <td>5004</td>\n",
       "      <td>3.75</td>\n",
       "      <td>NaN</td>\n",
       "      <td>15439723.71</td>\n",
       "    </tr>\n",
       "    <tr>\n",
       "      <th>4</th>\n",
       "      <td>2022-01-04</td>\n",
       "      <td>5005</td>\n",
       "      <td>NaN</td>\n",
       "      <td>12000000.0</td>\n",
       "      <td>27439723.71</td>\n",
       "    </tr>\n",
       "    <tr>\n",
       "      <th>...</th>\n",
       "      <td>...</td>\n",
       "      <td>...</td>\n",
       "      <td>...</td>\n",
       "      <td>...</td>\n",
       "      <td>...</td>\n",
       "    </tr>\n",
       "    <tr>\n",
       "      <th>35216</th>\n",
       "      <td>2022-11-30</td>\n",
       "      <td>4149</td>\n",
       "      <td>50.00</td>\n",
       "      <td>NaN</td>\n",
       "      <td>22590397.62</td>\n",
       "    </tr>\n",
       "    <tr>\n",
       "      <th>35217</th>\n",
       "      <td>2022-11-30</td>\n",
       "      <td>4150</td>\n",
       "      <td>3.75</td>\n",
       "      <td>NaN</td>\n",
       "      <td>22590393.87</td>\n",
       "    </tr>\n",
       "    <tr>\n",
       "      <th>35218</th>\n",
       "      <td>2022-11-30</td>\n",
       "      <td>4151</td>\n",
       "      <td>10000000.00</td>\n",
       "      <td>NaN</td>\n",
       "      <td>12590393.87</td>\n",
       "    </tr>\n",
       "    <tr>\n",
       "      <th>35219</th>\n",
       "      <td>2022-11-30</td>\n",
       "      <td>4152</td>\n",
       "      <td>50.00</td>\n",
       "      <td>NaN</td>\n",
       "      <td>12590343.87</td>\n",
       "    </tr>\n",
       "    <tr>\n",
       "      <th>35220</th>\n",
       "      <td>2022-11-30</td>\n",
       "      <td>4153</td>\n",
       "      <td>3.75</td>\n",
       "      <td>NaN</td>\n",
       "      <td>12590340.12</td>\n",
       "    </tr>\n",
       "  </tbody>\n",
       "</table>\n",
       "<p>35221 rows × 5 columns</p>\n",
       "</div>"
      ],
      "text/plain": [
       "      Tran. Date Ref/Chq. No        Debit      Credit      Balance\n",
       "0     2022-01-04        5001          NaN  30000000.0  45439777.46\n",
       "1     2022-01-04        5002  30000000.00         NaN  15439777.46\n",
       "2     2022-01-04        5003        50.00         NaN  15439727.46\n",
       "3     2022-01-04        5004         3.75         NaN  15439723.71\n",
       "4     2022-01-04        5005          NaN  12000000.0  27439723.71\n",
       "...          ...         ...          ...         ...          ...\n",
       "35216 2022-11-30        4149        50.00         NaN  22590397.62\n",
       "35217 2022-11-30        4150         3.75         NaN  22590393.87\n",
       "35218 2022-11-30        4151  10000000.00         NaN  12590393.87\n",
       "35219 2022-11-30        4152        50.00         NaN  12590343.87\n",
       "35220 2022-11-30        4153         3.75         NaN  12590340.12\n",
       "\n",
       "[35221 rows x 5 columns]"
      ]
     },
     "execution_count": 44,
     "metadata": {},
     "output_type": "execute_result"
    }
   ],
   "source": [
    "pd.read_excel('joindata.xlsx')"
   ]
  },
  {
   "cell_type": "code",
   "execution_count": null,
   "metadata": {},
   "outputs": [],
   "source": []
  },
  {
   "cell_type": "code",
   "execution_count": null,
   "metadata": {},
   "outputs": [],
   "source": []
  },
  {
   "cell_type": "code",
   "execution_count": null,
   "metadata": {},
   "outputs": [],
   "source": []
  },
  {
   "cell_type": "code",
   "execution_count": null,
   "metadata": {},
   "outputs": [],
   "source": []
  },
  {
   "cell_type": "code",
   "execution_count": 37,
   "metadata": {},
   "outputs": [],
   "source": []
  },
  {
   "cell_type": "code",
   "execution_count": null,
   "metadata": {},
   "outputs": [],
   "source": []
  },
  {
   "cell_type": "code",
   "execution_count": null,
   "metadata": {},
   "outputs": [],
   "source": []
  },
  {
   "cell_type": "code",
   "execution_count": null,
   "metadata": {},
   "outputs": [],
   "source": []
  },
  {
   "cell_type": "code",
   "execution_count": null,
   "metadata": {},
   "outputs": [],
   "source": [
    "com"
   ]
  }
 ],
 "metadata": {
  "kernelspec": {
   "display_name": "Python 3",
   "language": "python",
   "name": "python3"
  },
  "language_info": {
   "codemirror_mode": {
    "name": "ipython",
    "version": 3
   },
   "file_extension": ".py",
   "mimetype": "text/x-python",
   "name": "python",
   "nbconvert_exporter": "python",
   "pygments_lexer": "ipython3",
   "version": "3.8.5"
  }
 },
 "nbformat": 4,
 "nbformat_minor": 4
}
